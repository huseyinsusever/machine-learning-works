{
 "cells": [
  {
   "cell_type": "code",
   "execution_count": 4,
   "id": "5fed030b-152e-4d56-bb02-ffae2970a2b7",
   "metadata": {},
   "outputs": [],
   "source": [
    "import pandas as pd\n",
    "from sklearn.model_selection import train_test_split\n",
    "from sklearn.linear_model import LinearRegression\n",
    "from sklearn.datasets import fetch_california_housing\n",
    "california_housing = fetch_california_housing(as_frame=True)\n",
    "from sklearn.metrics import mean_squared_error, r2_score\n",
    "import joblib"
   ]
  },
  {
   "cell_type": "code",
   "execution_count": 6,
   "id": "9a1cf0fe-cf42-42dc-9703-d117fc7eb95b",
   "metadata": {},
   "outputs": [
    {
     "name": "stdout",
     "output_type": "stream",
     "text": [
      " Data Loaded Successfully (first 3 row) ---\n",
      "   MedInc  HouseAge  AveRooms  AveBedrms  Population  AveOccup  Latitude  \\\n",
      "0  8.3252      41.0  6.984127   1.023810       322.0  2.555556     37.88   \n",
      "1  8.3014      21.0  6.238137   0.971880      2401.0  2.109842     37.86   \n",
      "2  7.2574      52.0  8.288136   1.073446       496.0  2.802260     37.85   \n",
      "\n",
      "   Longitude  \n",
      "0    -122.23  \n",
      "1    -122.22  \n",
      "2    -122.24  \n"
     ]
    }
   ],
   "source": [
    "#Converting data to DataFrame and adding the Target (price) column\n",
    "X_data = california_housing.frame.drop('MedHouseVal', axis=1)\n",
    "y_target = california_housing.frame['MedHouseVal']\n",
    "\n",
    "print(\" Data Loaded Successfully (first 3 row) ---\")\n",
    "print(X_data.head(3))"
   ]
  },
  {
   "cell_type": "code",
   "execution_count": 7,
   "id": "a3970ac2-214f-47d4-813b-a7236f40cb57",
   "metadata": {},
   "outputs": [
    {
     "name": "stdout",
     "output_type": "stream",
     "text": [
      "\n",
      "--- 2. Training/Testing split ---\n",
      "Training Set Shape (X_train): 16512\n",
      "Test_Set_Shape (X_test): 4128\n"
     ]
    }
   ],
   "source": [
    "#The Difference Between Training and Testing\n",
    "#random_state with random \n",
    "X_train, X_test, y_train, y_test = train_test_split(X_data, y_target, test_size=0.2, random_state=42)\n",
    "\n",
    "print(f\"\\n--- 2. Training/Testing split ---\")\n",
    "print(f\"Training Set Shape (X_train): {len(X_train)}\")\n",
    "print(f\"Test_Set_Shape (X_test): {len(X_test)}\")\n",
    "\n",
    "      "
   ]
  },
  {
   "cell_type": "code",
   "execution_count": 9,
   "id": "b3b87892-4b79-4726-b719-9f602b757542",
   "metadata": {},
   "outputs": [
    {
     "name": "stdout",
     "output_type": "stream",
     "text": [
      "\n",
      "--- 3.Model Training successfully ---\n",
      "Training Model Coefficients (Coefficients): [ 0.449  0.01  -0.123  0.783 -0.    -0.004 -0.42  -0.434]\n"
     ]
    }
   ],
   "source": [
    "#Multi Linear Regression\n",
    "model = LinearRegression()\n",
    "model.fit(X_train, y_train)\n",
    "\n",
    "print(\"\\n--- 3.Model Training successfully ---\")\n",
    "print(f\"Training Model Coefficients (Coefficients): {model.coef_.round(3)}\")"
   ]
  },
  {
   "cell_type": "code",
   "execution_count": 11,
   "id": "8d64923e-0dce-4fba-a01e-fe1660fe07f2",
   "metadata": {},
   "outputs": [],
   "source": [
    "import numpy as np\n",
    "# Assuming x_train and y_train are numpy arrays\n",
    "\n",
    "def gradient_descent(X, y, learning_rate, n_iterations):\n",
    "    \"\"\"\n",
    "    Manuel Linear Regression for Gradien Descent\n",
    "\n",
    "    Parametres:\n",
    "    X: Training features (numpy array)\n",
    "    y: Target values (numpy array)\n",
    "    learning_rate: Education speed ( How big step)\n",
    "    n_iterations: İterasion number (How many step)\n",
    "    \"\"\"\n",
    "    m, n = X.shape\n",
    "\n",
    "    # 1. Initial Coefficients: Initialize Coefficients (W) and Bias (b) to zero\n",
    "    W = np.zeros(n) # weights (coefficients)\n",
    "    b = 0           #Bias (intercept)\n",
    "    cost_history = []\n",
    "\n",
    "    for i in range(n_iterations):\n",
    "        \n",
    "        # 2. Make a Prediction (Hypothesis): h = W * X + b\n",
    "        h = np.dot(X, W) + b\n",
    "        \n",
    "        # 3. Calculate Error: Estimate - Actual Value\n",
    "        error = h - y\n",
    "        \n",
    "        # 4. Calculate and Save Cost (MSE)\n",
    "        cost = (1/ (2 * m)) * np.sum(error**2)\n",
    "        cost_history.append(cost)\n",
    "        \n",
    "        # 5. Calculate Gradients (Direction of Change)\n",
    "        dW = (1 / m) * np.dot(X.T, error) # Coefficient (W) gradiant\n",
    "        db = (1 / m) * np.sum(error)      # Bias (b) gradient\n",
    "        \n",
    "        # 6. Update Coefficients (Learning Step)\n",
    "        W = W -learning_rate * dW\n",
    "        b = b - learning_rate * db\n",
    "\n",
    "    return W, b, cost_history\n",
    "\n",
    "# X_train and y_train numpy array translate\n",
    "X_train_np = X_train.values\n",
    "y_train_np = y_train.values\n"
   ]
  },
  {
   "cell_type": "code",
   "execution_count": 14,
   "id": "4759cff1-78d9-4f10-9a8e-ec43dfcafe77",
   "metadata": {},
   "outputs": [
    {
     "name": "stdout",
     "output_type": "stream",
     "text": [
      "\n",
      "--- 1000 İterasion after ---\n",
      "Final Bias(Intercept): nan\n",
      "Final Coefficients (W): [nan nan nan nan nan nan nan nan]\n",
      "Last Cost (Error): nan\n"
     ]
    },
    {
     "name": "stderr",
     "output_type": "stream",
     "text": [
      "C:\\Users\\hüseyin\\AppData\\Local\\Temp\\ipykernel_25476\\473190673.py:30: RuntimeWarning: overflow encountered in square\n",
      "  cost = (1/ (2 * m)) * np.sum(error**2)\n",
      "C:\\ProgramData\\anaconda3\\Lib\\site-packages\\numpy\\_core\\fromnumeric.py:86: RuntimeWarning: overflow encountered in reduce\n",
      "  return ufunc.reduce(obj, axis, dtype, out, **passkwargs)\n",
      "C:\\Users\\hüseyin\\AppData\\Local\\Temp\\ipykernel_25476\\473190673.py:38: RuntimeWarning: invalid value encountered in subtract\n",
      "  W = W -learning_rate * dW\n"
     ]
    },
    {
     "data": {
      "image/png": "[encoded data removed]",
      "text/plain": [
       "<Figure size 640x480 with 1 Axes>"
      ]
     },
     "metadata": {},
     "output_type": "display_data"
    }
   ],
   "source": [
    "#Application and Observation\n",
    "#Now let's run the Gradient Descent function and observe how the model learns.\n",
    "# Model run parameters\n",
    "learning_rate = 0.01\n",
    "n_iterations = 1000\n",
    "\n",
    "#Training model\n",
    "final_W, final_b, cost_history = gradient_descent(X_train_np, y_train_np, learning_rate, n_iterations)\n",
    "print(f\"\\n--- 1000 İterasion after ---\")\n",
    "print(f\"Final Bias(Intercept): {final_b:.4f}\")\n",
    "print(f\"Final Coefficients (W): {final_W.round(4)}\")\n",
    "print(f\"Last Cost (Error): {cost_history[-1]:.4f}\")\n",
    "\n",
    "# (Additional Step) Plotting Cost History:\n",
    "import matplotlib.pyplot as plt\n",
    "plt.plot(cost_history)\n",
    "plt.title('Change in Cost According to Iteration')\n",
    "plt.xlabel('İterasion Number')\n",
    "plt.ylabel('Cost (MSE)')\n",
    "plt.show()\n"
   ]
  },
  {
   "cell_type": "code",
   "execution_count": 16,
   "id": "92ca3abc-a534-45ad-8ab1-eeab526c9ebc",
   "metadata": {},
   "outputs": [
    {
     "name": "stdout",
     "output_type": "stream",
     "text": [
      "\n",
      "--- 4. Forecast and Evaluation ---\n",
      "Average Squad Errro (MSE): 0.5559\n",
      "R-Squad Score (R²): 0.5758\n",
      "\n",
      "Real Price vs Estimated Prices:\n",
      "       Real Price  Guess\n",
      "20046        0.48   0.72\n",
      "3024         0.46   1.76\n",
      "15663        5.00   2.71\n",
      "20484        2.19   2.84\n",
      "9814         2.78   2.60\n"
     ]
    }
   ],
   "source": [
    "# predict make\n",
    "y_pred = model.predict(X_test)\n",
    "\n",
    "# Evaluation (MSE and R-Square)\n",
    "mse = mean_squared_error(y_test, y_pred)\n",
    "r2 = r2_score(y_test, y_pred)\n",
    "\n",
    "print(\"\\n--- 4. Forecast and Evaluation ---\")\n",
    "print(f\"Average Squad Errro (MSE): {mse:.4f}\") \n",
    "print(f\"R-Squad Score (R²): {r2:.4f}\") # The closer to 1.0 the better\n",
    "\n",
    "# Actual and Forecast Comparison (First 5 examples)\n",
    "to_compare = pd.DataFrame({'Real Price': y_test.head().round(2), 'Guess': y_pred[:5].round(2)})\n",
    "print(\"\\nReal Price vs Estimated Prices:\")\n",
    "print(to_compare)      "
   ]
  },
  {
   "cell_type": "code",
   "execution_count": 17,
   "id": "384b4bf9-dfa8-4787-8375-7aae0eba6a63",
   "metadata": {},
   "outputs": [
    {
     "name": "stdout",
     "output_type": "stream",
     "text": [
      "\n",
      "--- 5. model save ---\n",
      "Model, 'house_price_predict_model.joblib' for name save.\n"
     ]
    }
   ],
   "source": [
    "# model save (joblib)\n",
    "joblib.dump(model, 'house_price_predict_model.joblib')\n",
    "\n",
    "print(\"\\n--- 5. model save ---\")\n",
    "print(\"Model, 'house_price_predict_model.joblib' for name save.\")"
   ]
  }
 ],
 "metadata": {
  "kernelspec": {
   "display_name": "Python 3 (ipykernel)",
   "language": "python",
   "name": "python3"
  },
  "language_info": {
   "codemirror_mode": {
    "name": "ipython",
    "version": 3
   },
   "file_extension": ".py",
   "mimetype": "text/x-python",
   "name": "python",
   "nbconvert_exporter": "python",
   "pygments_lexer": "ipython3",
   "version": "3.13.5"
  }
 },
 "nbformat": 4,
 "nbformat_minor": 5
}
